{
 "cells": [
  {
   "cell_type": "markdown",
   "id": "538fd4dc-42c4-41dd-a2fb-4d0fa4830cd4",
   "metadata": {
    "tags": []
   },
   "source": [
    "# <span style='background:orange'> Data-driven Astronomy  </span>"
   ]
  },
  {
   "cell_type": "markdown",
   "id": "205bd3f7-31be-4db0-80c3-4da9a9d74099",
   "metadata": {
    "tags": []
   },
   "source": [
    "### 1a – Week 1: Set up your online assessment"
   ]
  },
  {
   "cell_type": "markdown",
   "id": "48d8299e-1368-40b7-bc51-0afc74b7e6ee",
   "metadata": {
    "tags": []
   },
   "source": [
    "#### Hello, World!\n",
    "\n",
    "##### 1. Write a program that prints out the message:\n",
    "##### Hello, World!"
   ]
  },
  {
   "cell_type": "code",
   "execution_count": 1,
   "id": "ffd1045c-3d56-41ad-a223-43e416690873",
   "metadata": {},
   "outputs": [
    {
     "name": "stdout",
     "output_type": "stream",
     "text": [
      "Hello, World!\n"
     ]
    }
   ],
   "source": [
    "print('Hello, World!')\n"
   ]
  },
  {
   "cell_type": "markdown",
   "id": "37caef74-177b-4dfa-805a-e45643ce2a9c",
   "metadata": {},
   "source": [
    "***"
   ]
  },
  {
   "cell_type": "markdown",
   "id": "63099d25-2f21-4a77-b1f3-9595ddbfb95a",
   "metadata": {
    "tags": []
   },
   "source": [
    "#### \"Hello, World!\" Function\n",
    "\n",
    "##### 2. Write a function called greet that takes a name argument and returns a greeting string."
   ]
  },
  {
   "cell_type": "code",
   "execution_count": 7,
   "id": "233ca884-a21a-442d-a8b4-1aca68f1abce",
   "metadata": {},
   "outputs": [
    {
     "data": {
      "text/plain": [
       "'Hello, George!'"
      ]
     },
     "execution_count": 7,
     "metadata": {},
     "output_type": "execute_result"
    }
   ],
   "source": [
    "# Write your greet function definition below:\n",
    "\n",
    "def greet(n):\n",
    "    return 'Hello, '+n+'!'\n",
    "\n",
    "\n",
    "# Any code inside the if statement will be ignored by the automarker.\n",
    "# Put your test code in here, since it will be run by clicking Run or Terminal.\n",
    "\n",
    "greet('George')"
   ]
  },
  {
   "cell_type": "markdown",
   "id": "3bb903e2-2deb-4f6b-8217-672e3f971422",
   "metadata": {},
   "source": [
    "***\n",
    "***"
   ]
  },
  {
   "cell_type": "markdown",
   "id": "0178f7bf-27a6-48aa-8faa-186bacfa8a93",
   "metadata": {
    "tags": []
   },
   "source": [
    "### 1b – Week 1: Calculating the mean stack"
   ]
  },
  {
   "cell_type": "markdown",
   "id": "35350616-3049-40ef-8dc5-ea16f1824666",
   "metadata": {},
   "source": [
    "#### Mean of a list\n",
    "\n",
    "##### 3. Write a function calculate_mean that calculates the mean of a list of numbers. Your function should take a single argument, the list of floats, and return the mean of that list."
   ]
  },
  {
   "cell_type": "code",
   "execution_count": 5,
   "id": "29312548-18c5-4f22-8f4f-a4cc56372902",
   "metadata": {},
   "outputs": [
    {
     "name": "stdout",
     "output_type": "stream",
     "text": [
      "2.96\n"
     ]
    }
   ],
   "source": [
    "# Write your calculate_mean function here.\n",
    "\n",
    "def calculate_mean(n):\n",
    "    return sum(n)/len(n)\n",
    "  \n",
    "    \n",
    "# You can use this to test your function.\n",
    "# Any code inside this `if` statement will be ignored by the automarker.\n",
    "\n",
    "if __name__ == '__main__':\n",
    "    \n",
    "    # Run your `calculate_mean` function with examples:\n",
    "    mean = calculate_mean([1,2.2,0.3,3.4,7.9])\n",
    "    print(mean)"
   ]
  },
  {
   "cell_type": "markdown",
   "id": "403834be-15dc-41c8-837d-5264929c3313",
   "metadata": {},
   "source": [
    "***"
   ]
  },
  {
   "cell_type": "markdown",
   "id": "57806153-5f42-4db2-b140-d24da9dd5580",
   "metadata": {},
   "source": [
    "#### Mean of 1D array\n",
    "\n",
    "##### 4. Write a calc_stats function that reads data from a CSV file and calculates its mean and the median. Your function should take the name of the file as an argument and return the mean and median in a tuple, rounded to one decimal place."
   ]
  },
  {
   "cell_type": "code",
   "execution_count": null,
   "id": "d200dc46-d7ef-48a7-97bf-549270305ea4",
   "metadata": {},
   "outputs": [],
   "source": [
    "# Write your calc_stats function here.\n",
    "\n",
    "import numpy as np\n",
    "def calc_stats(n):\n",
    "    data = []\n",
    "    for line in open(n):\n",
    "        row = []\n",
    "        for col in line.strip().split(','):\n",
    "            row.append(float(col))\n",
    "        data=data+row\n",
    "    return (np.round(np.mean(data),1),np.round(np.median(data),1))\n",
    "    \n",
    "\n",
    "\n",
    "\n",
    "# You can use this to test your function.\n",
    "# Any code inside this `if` statement will be ignored by the automarker.\n",
    "\n",
    "if __name__ == '__main__':\n",
    "    \n",
    "    # Run your `calc_stats` function with examples:\n",
    "    mean = calc_stats('data.csv')\n",
    "    print(mean)"
   ]
  },
  {
   "cell_type": "markdown",
   "id": "98dacc30-89f6-4383-944e-86f9f9da4e1e",
   "metadata": {},
   "source": [
    "***"
   ]
  },
  {
   "cell_type": "markdown",
   "id": "a4402714-87e2-44df-87d1-d0c1a2c44b6a",
   "metadata": {},
   "source": [
    "#### Mean of set of signals\n",
    "\n",
    "##### 5. Write a mean_datasets function that reads in a list of CSV files and returns an array of the mean of each cell in the data files.\n",
    "\n",
    "##### The files each contain n rows and m columns, giving a total of n x m cells. The individual cells are separated by commas, and all CSV files in the list will have the same number of rows and columns.\n",
    "\n",
    "##### The result should have the same dimensions as the input files. The result should be a NumPy array with individual entries rounded to one decimal place."
   ]
  },
  {
   "cell_type": "code",
   "execution_count": null,
   "id": "23171634-1487-4c71-89a9-f3e84b474e00",
   "metadata": {},
   "outputs": [],
   "source": [
    "# Write your mean_datasets function here\n",
    "\n",
    "def mean_datasets(n):\n",
    "    import numpy as np\n",
    "    A=np.array([0])\n",
    "    x=0\n",
    "    for csv in n:\n",
    "        data = []\n",
    "        for line in open(csv):\n",
    "            row = []\n",
    "            for col in line.strip().split(','):\n",
    "                row.append(float(col))\n",
    "            data.append(row)\n",
    "            d= np.array(data)\n",
    "        A=(A+d)\n",
    "        x=x+1\n",
    "    A=np.round(A/x,1)\n",
    "    return A\n",
    "\n",
    "# You can use this to test your function.\n",
    "# Any code inside this `if` statement will be ignored by the automarker.\n",
    "\n",
    "if __name__ == '__main__':\n",
    "    \n",
    "    # Run your function with the first example from the question:\n",
    "    print(mean_datasets(['data1.csv', 'data2.csv', 'data3.csv']))\n",
    "    \n",
    "    # Run your function with the second example from the question:\n",
    "    print(mean_datasets(['data4.csv', 'data5.csv', 'data6.csv']))\n"
   ]
  },
  {
   "cell_type": "markdown",
   "id": "070f6713-d808-4561-98f6-9039696a1911",
   "metadata": {},
   "source": [
    "***"
   ]
  },
  {
   "cell_type": "markdown",
   "id": "01666cff-b3fc-499c-8eac-982c02abc698",
   "metadata": {},
   "source": [
    "#### Read a FITS file.\n",
    "\n",
    "##### 6. Write a load_fits function that loads in a FITS file and finds the position of the brightest pixel (i.e. the maximum value) in its image data. To make this function work for arbitrary files, pass the name of the FITS file as an argument to the function."
   ]
  },
  {
   "cell_type": "code",
   "execution_count": null,
   "id": "519eb216-3a3f-4524-8ee5-73309fb15e09",
   "metadata": {},
   "outputs": [],
   "source": [
    "# Write your load_fits function here.\n",
    "def load_fits(n):\n",
    "    import numpy as np\n",
    "    from astropy.io import fits\n",
    "    hdulist = fits.open(n)\n",
    "    data = hdulist[0].data\n",
    "    x=0\n",
    "    d=0\n",
    "    for b in data:\n",
    "        y=0\n",
    "        for c in b:\n",
    "            if c>d:\n",
    "                X=x\n",
    "                Y=y\n",
    "                d=c\n",
    "            y=y+1\n",
    "        x=x+1\n",
    "    return (X,Y)\n",
    "\n",
    "\n",
    "if __name__ == '__main__':\n",
    "    # Run your `load_fits` function with examples:\n",
    "    bright = load_fits('image1.fits')\n",
    "    print(bright)\n",
    "    \n",
    "    # You can also confirm your result visually:\n",
    "    from astropy.io import fits\n",
    "    import matplotlib.pyplot as plt\n",
    "    \n",
    "    hdulist = fits.open('image1.fits')\n",
    "    data = hdulist[0].data\n",
    "\n",
    "    # Plot the 2D image data\n",
    "    plt.imshow(data.T, cmap=plt.cm.viridis)\n",
    "    plt.colorbar()\n",
    "    plt.show()\n",
    "\n",
    " \n"
   ]
  },
  {
   "cell_type": "markdown",
   "id": "13cae343-172e-430c-96a5-f72ee991d28b",
   "metadata": {},
   "source": [
    "***"
   ]
  },
  {
   "cell_type": "markdown",
   "id": "750755ff-3dfd-4a37-9c9c-970134bc273f",
   "metadata": {},
   "source": [
    "#### Mean of a set of FITS files\n",
    "\n",
    "##### 7. Write a mean_fits function that takes a list of FITS files as an argument, reads them in, and returns the mean image data of the FITS files. All the images have the same dimensions and your calculated mean array should match those dimensions.\n",
    "\n",
    "##### Your function should be able to process an arbitrary number of files. If you're unsure how to do that, take a look at the sample solutions to the previous problems.\n",
    "\n",
    "##### The mean stack of these files will be a large 200 x 200 array, so we will only look at the central value of your returned array, which is where we expect the pulsar to be."
   ]
  },
  {
   "cell_type": "code",
   "execution_count": null,
   "id": "f42feff8-070e-46f5-a0b2-5637e6bc515c",
   "metadata": {},
   "outputs": [],
   "source": [
    "# Write your mean_fits function here:\n",
    "def mean_fits(n):\n",
    "    import numpy as np\n",
    "    from astropy.io import fits\n",
    "    x=0\n",
    "    for m in n:\n",
    "        hdulist = fits.open(m)\n",
    "        data = hdulist[0].data\n",
    "        if x==0:\n",
    "            y=data\n",
    "        else:\n",
    "            y=y+data\n",
    "        x=x+1\n",
    "    data=y/len(n)  \n",
    "    return data\n",
    "\n",
    "if __name__ == '__main__':\n",
    "    # Test your function with examples from the question\n",
    "    \n",
    "    data  = mean_fits(['image0.fits', 'image1.fits', 'image2.fits'])\n",
    "    print(data[100, 100])\n",
    "    \n",
    "    # You can also plot the result:\n",
    "    import matplotlib.pyplot as plt\n",
    "    plt.imshow(data.T, cmap=plt.cm.viridis)\n",
    "    plt.colorbar()\n",
    "    plt.show()\n",
    "  "
   ]
  },
  {
   "cell_type": "markdown",
   "id": "6321b1f1-01ba-4ac9-b68a-30926f2e3404",
   "metadata": {},
   "source": [
    "***\n",
    "***"
   ]
  },
  {
   "cell_type": "markdown",
   "id": "f8bdd75c-4873-4c4b-862a-6d79c55f1b3e",
   "metadata": {
    "tags": []
   },
   "source": [
    "### 1c – Week 1: Calculating the median stack"
   ]
  },
  {
   "cell_type": "markdown",
   "id": "00c69b12-28b3-43b0-b755-c68fc0149667",
   "metadata": {},
   "source": [
    "#### Comparing Mean and Median\n",
    "\n",
    "##### 8. Write a function called list_stats that takes a list of numbers and returns a tuple of the median and mean of the list (in this order).\n",
    "\n",
    "##### The function should work on lists with even or odd numbers of elements and handle the case of a one-element list."
   ]
  },
  {
   "cell_type": "code",
   "execution_count": null,
   "id": "b33696bd-c395-481a-9185-8250dfe9e812",
   "metadata": {},
   "outputs": [],
   "source": [
    "# Write your list_stats function here.\n",
    "\n",
    "def list_stats (n):\n",
    "    n.sort()\n",
    "    mean= sum(n)/len(n)\n",
    "    if len(n)%2!=0:\n",
    "        mid=len(n)//2\n",
    "        median=n[mid]\n",
    "    if len(n)%2==0:\n",
    "        mid=len(n)//2\n",
    "        median=(n[mid-1]+n[mid])/2\n",
    "    return (median, mean)\n",
    "    \n",
    "    9.\n",
    "# You can use this to test your function.\n",
    "# Any code inside this `if` statement will be ignored by the automarker.\n",
    "\n",
    "if __name__ == '__main__':\n",
    "    \n",
    "    # Run your function with the first example in the question.\n",
    "    m = list_stats([1.3, 2.4, 20.6, 0.95, 3.1, 2.7])\n",
    "    print(m)\n",
    "\n",
    "    # Run your function with the second example in the question\n",
    "    m = list_stats([1.5])\n",
    "    print(m)"
   ]
  },
  {
   "cell_type": "markdown",
   "id": "eb2fb553-db58-427c-971e-707237dee361",
   "metadata": {},
   "source": [
    "***"
   ]
  },
  {
   "cell_type": "markdown",
   "id": "a48a2912-4ec7-4bd6-97d5-e85128d767eb",
   "metadata": {},
   "source": [
    "#### Time it!\n",
    "\n",
    "##### 9. Write a time_stat function to time our statistic implementations.\n",
    "\n",
    "##### time_stat should take three arguments: the func function we're timing, the size of the random array to test, and the number of experiments to perform. It should return the average running time for the func function.\n",
    "\n",
    "##### We have provided a skeleton time_stat function to show you how func should be called. You should add timing code to this function.\n",
    "\n",
    "##### The time for creating new random arrays for each experiment should not be included in the running time."
   ]
  },
  {
   "cell_type": "code",
   "execution_count": null,
   "id": "44ad1e3e-52d9-4e33-a339-d812e158d430",
   "metadata": {},
   "outputs": [],
   "source": [
    "import numpy as np\n",
    "import statistics\n",
    "import time\n",
    "\n",
    "def time_stat(func, size, ntrials):\n",
    "    totime=0.0\n",
    "    for n in range(ntrials):\n",
    "        data = np.random.rand(size)\n",
    "        start=time.perf_counter()\n",
    "        res = func(data)\n",
    "        seconds = time.perf_counter() - start\n",
    "        totime=totime+seconds\n",
    "    return totime/ntrials\n",
    "\n",
    "if __name__ == '__main__':\n",
    "    print('{:.6f}s for statistics.mean'.format(time_stat(statistics.mean, 10**5, 10)))\n",
    "    print('{:.6f}s for np.mean'.format(time_stat(np.mean, 10**5, 1000)))\n"
   ]
  },
  {
   "cell_type": "markdown",
   "id": "b35160be-f938-4d9c-8938-699915a1e57c",
   "metadata": {},
   "source": [
    "***"
   ]
  },
  {
   "cell_type": "markdown",
   "id": "a195efa8-5729-4f9c-883b-f85a1317b78f",
   "metadata": {},
   "source": [
    "#### How much does the median cost ?\n",
    "\n",
    "##### 10. Write a median_fits function which takes a list of FITS filenames, loads them into a NumPy array, and calculates the median image (where each pixel is the median of that pixel over every FITS file).\n",
    "\n",
    "##### Your function should return a tuple of the median NumPy array, the time it took the function to run, and the amount of memory (in kB) used to store all the FITS files in the NumPy array in memory.\n",
    "\n",
    "##### The running time should include loading the FITS files and calculating the median."
   ]
  },
  {
   "cell_type": "code",
   "execution_count": null,
   "id": "99ed4c69-4e81-4e90-800d-1a7a06bde86d",
   "metadata": {},
   "outputs": [],
   "source": [
    "# Write your function median_FITS here:\n",
    "import numpy as np\n",
    "from astropy.io import fits\n",
    "import time\n",
    "import sys\n",
    "\n",
    "def median_fits(list):\n",
    "    d=[]\n",
    "    size=0\n",
    "    start=time.perf_counter()\n",
    "    for img in list:\n",
    "        hdulist = fits.open(img)\n",
    "        data = hdulist[0].data\n",
    "        d=d+[data]\n",
    "    \n",
    "    a=data\n",
    "  \n",
    "    m,n=a.shape[0],a.shape[1]\n",
    "    for x in range(m):\n",
    "        for y in range(n):\n",
    "            c =[]\n",
    "            for l in range(len(list)):\n",
    "                c= c+[d[l][x,y]]\n",
    "            c.sort()\n",
    "        if len(c)%2!=0:\n",
    "            mid=len(c)//2\n",
    "            median=c[mid]\n",
    "        if len(c)%2==0:\n",
    "            mid=len(c)//2\n",
    "            median=(c[mid-1]+c[mid])/2\n",
    "        a[x,y]=median\n",
    "    s=time.perf_counter()-start\n",
    "    FITS_stack = np.dstack(d)\n",
    "    memory = FITS_stack.nbytes\n",
    "    memory /= 1024\n",
    "    return (a,s,memory)\n",
    " \n",
    "\n",
    "# You can use this to test your function.\n",
    "# Any code inside this `if` statement will be ignored by the automarker.\n",
    "\n",
    "if __name__ == '__main__':\n",
    "    \n",
    "    # Run your function with first example in the question.\n",
    "    result = median_fits(['image0.fits', 'image1.fits'])\n",
    "    print(result[0][100, 100], result[1], result[2])\n",
    "    \n",
    "    # Run your function with second example in the question.\n",
    "    result = median_fits(['image{}.fits'.format(str(i)) for i in range(11)])\n",
    "    print(result[0][100, 100], result[1], result[2])"
   ]
  },
  {
   "cell_type": "markdown",
   "id": "33641de6-96c6-4c67-b32e-9b9bd1a9e391",
   "metadata": {},
   "source": [
    "***"
   ]
  },
  {
   "cell_type": "markdown",
   "id": "323a4104-e0c9-4fc3-a868-ac58890fb2a8",
   "metadata": {},
   "source": [
    "#### Challenge: Binapprox\n",
    "\n",
    "##### 11. Let's implement the binapprox algorithm to calculate the median of a list of numbers. This algorithm is quite complex, so we'll break it down into managable parts.\n",
    "\n",
    "##### Your task is to write two functions:\n",
    "\n",
    "##### (1) median_bins to calculate the mean, standard deviation and the bins (steps 1-6 on the previous slide);\n",
    "##### (2) median_approx which calls median_bins and then calculates the approximated median (steps 7-8)."
   ]
  },
  {
   "cell_type": "code",
   "execution_count": null,
   "id": "b2028e10-c183-4f4b-8026-8400fa169660",
   "metadata": {},
   "outputs": [],
   "source": [
    "# Write your median_bins and median_approx functions here.\n",
    "import numpy as np\n",
    "def median_bins(values,B):\n",
    "    data=np.array(values)\n",
    "    mean=np.mean(data)\n",
    "    std=np.std(data)\n",
    "    mini=mean-std\n",
    "    maxi=mean+std\n",
    "    intv=(2*std)/B\n",
    "    d=[mini+intv]\n",
    "    for a in range(0,B-1):\n",
    "        d=d+[d[a]+intv]\n",
    "    n=0\n",
    "    g=[]\n",
    "    for a in range(len(d)):\n",
    "        g=g+[0]\n",
    "    for c in data:\n",
    "        if c<mini:\n",
    "            n=n+1\n",
    "        m=0\n",
    "        for b in d:\n",
    "            if c<b and c>=(b-intv):\n",
    "                g[m]=g[m]+1\n",
    "            m+=1\n",
    "    return (mean,std,n,np.array(g))\n",
    "\n",
    "def median_approx(values,B):\n",
    "    (a,b,c,d)=median_bins(values,B)\n",
    "    suma=c\n",
    "    for x in range(len(d)):\n",
    "        suma+=d[x]\n",
    "        if suma>=(len(values)+1)/2:\n",
    "            break\n",
    "    intv=(2*b)/B\n",
    "    op=((a-b+x*(intv))+(a-b+(x+1)*(intv)))/2\n",
    "    return op\n",
    "  \n",
    "      \n",
    "# You can use this to test your functions.\n",
    "# Any code inside this `if` statement will be ignored by the automarker.\n",
    "\n",
    "if __name__ == '__main__':\n",
    "    \n",
    "    # Run your functions with the first example in the question.\n",
    "    print(median_bins([1, 1, 3, 2, 2, 6], 3))\n",
    "    print(median_approx([1, 1, 3, 2, 2, 6], 3))\n",
    "    \n",
    "    # Run your functions with the second example in the question.\n",
    "    print(median_bins([1, 5, 7, 7, 3, 6, 1, 1], 4))\n",
    "    print(median_approx([1, 5, 7, 7, 3, 6, 1, 1], 4))"
   ]
  },
  {
   "cell_type": "markdown",
   "id": "097ddcae-ac5a-46ac-8918-ba9dba9ee2ea",
   "metadata": {},
   "source": [
    "***\n",
    "***"
   ]
  },
  {
   "cell_type": "markdown",
   "id": "554e4b3e-93f7-4fa7-afb9-7474e8678d0d",
   "metadata": {
    "tags": []
   },
   "source": [
    "### 2a – Week 2: A naive cross-matcher"
   ]
  },
  {
   "cell_type": "markdown",
   "id": "496b1e02-e1e7-428d-a7a4-8a860a26119f",
   "metadata": {},
   "source": [
    "#### Convert to decimal degrees\n",
    "\n",
    "##### 12. Write two functions, one that converts right ascension from HMS to decimal degrees, called hms2dec, and another that converts declination from DMS to decimal degrees, called dms2dec.\n",
    "\n",
    "##### Right ascension is always an angle from 0 to 24 hours and declination is always an angle from -90° to +90°."
   ]
  },
  {
   "cell_type": "code",
   "execution_count": null,
   "id": "c9d96291-53ac-436f-9ca0-59c75ca7c869",
   "metadata": {},
   "outputs": [],
   "source": [
    "# Write your hms2dec and dms2dec functions here\n",
    "def dms2dec (d,m,s):\n",
    "    if d>=0:\n",
    "        x=(d+(m/60)+(s/3600))\n",
    "    if d<0:\n",
    "        x=(d-(m/60)-(s/3600))\n",
    "    return x\n",
    "\n",
    "def hms2dec (h,m,s):\n",
    "    return (360/24)*(h+(m/60)+(s/3600))\n",
    "\n",
    "\n",
    "# You can use this to test your function.\n",
    "# Any code inside this `if` statement will be ignored by the automarker.\n",
    "\n",
    "if __name__ == '__main__':\n",
    "    \n",
    "    # The first example from the question\n",
    "    print(hms2dec(23, 12, 6))\n",
    "\n",
    "    # The second example from the question\n",
    "    print(dms2dec(22, 57, 18))\n",
    "\n",
    "    # The third example from the question\n",
    "    print(dms2dec(-66, 5, 5.1))"
   ]
  },
  {
   "cell_type": "markdown",
   "id": "886f86ae-695e-4529-8244-f0db31d7cbb5",
   "metadata": {},
   "source": [
    "***"
   ]
  },
  {
   "cell_type": "markdown",
   "id": "73da1419-4aea-4bf6-8a09-1db4699bf245",
   "metadata": {},
   "source": [
    "#### Heavenly angles\n",
    "\n",
    "##### 13. Write a function called angular_dist that calculates the angular distance between any two points on the celestial sphere given their right ascension and declination.\n",
    "\n",
    "##### Your function should take arguments in decimal degrees and return the distance in decimal degrees too."
   ]
  },
  {
   "cell_type": "code",
   "execution_count": null,
   "id": "4314906a-2a4a-42e1-a8af-bd722d12d1c8",
   "metadata": {},
   "outputs": [],
   "source": [
    "# Write your angular_dist function here.\n",
    "import numpy as m\n",
    "\n",
    "def angular_dist (r1,d1,r2,d2):\n",
    "    r1,d1,r2,d2=m.radians(r1),m.radians(d1),m.radians(r2),m.radians(d2)\n",
    "    a = m.sin(abs(d1-d2)/2)**2\n",
    "    b = m.cos(d1)*m.cos(d2)*m.sin(m.abs(r1 - r2)/2)**2\n",
    "    D=2*m.arcsin(m.sqrt(a+b))\n",
    "    return m.degrees(D)\n",
    "\n",
    "\n",
    "\n",
    "\n",
    "\n",
    "# You can use this to test your function.\n",
    "# Any code inside this `if` statement will be ignored by the automarker.\n",
    "\n",
    "if __name__ == '__main__':\n",
    "    \n",
    "    # Run your function with the first example in the question.\n",
    "    print(angular_dist(21.07, 0.1, 21.15, 8.2))\n",
    "\n",
    "    # Run your function with the second example in the question\n",
    "    print(angular_dist(10.3, -3, 24.3, -29))\n"
   ]
  },
  {
   "cell_type": "markdown",
   "id": "9ff14eac-d095-4503-8766-1dde141a2303",
   "metadata": {},
   "source": [
    "***"
   ]
  },
  {
   "cell_type": "markdown",
   "id": "1e7d62e9-4731-4bf4-8941-629d91a68a61",
   "metadata": {},
   "source": [
    "#### Playing with space cats \n",
    "\n",
    "##### 14. Write import_bss and import_super functions that import the AT20G BSS and SuperCOSMOS catalogues from the files bss.dat and super.csv as described in the previous slides.\n",
    "\n",
    "##### Each function should return a list of tuples containing the object's ID (an integer) and the coordinates in degrees. The object ID should be the row of the object in the catalogue, starting at 1."
   ]
  },
  {
   "cell_type": "code",
   "execution_count": null,
   "id": "08e12dfa-d22e-4d93-9f8b-34cb1a35ec70",
   "metadata": {},
   "outputs": [],
   "source": [
    "# Write your import_bss function here.\n",
    "import numpy as np\n",
    "\n",
    "def dms2dec (d,m,s):\n",
    "    if d>=0:\n",
    "        x=(d+(m/60)+(s/3600))\n",
    "    if d<0:\n",
    "        x=(d-(m/60)-(s/3600))\n",
    "    return x\n",
    "\n",
    "def import_bss():\n",
    "    cat = np.loadtxt('bss.dat', usecols=range(1, 7))\n",
    "    x=0\n",
    "    y=[]\n",
    "    for a in cat:\n",
    "        x=x+1\n",
    "        y=y+[(x, (360/24)*(a[0]+(a[1]/60)+(a[2]/3600)), dms2dec(a[3],a[4],a[5]))]\n",
    "    return y\n",
    "\n",
    "def import_super():\n",
    "    cat = np.loadtxt('super.csv', delimiter=',', skiprows=1, usecols=[0, 1])\n",
    "    x=0\n",
    "    y=[]\n",
    "    for a in cat:\n",
    "        x=x+1\n",
    "        y=y+[(x, a[0], a[1])]\n",
    "    return y\n",
    "   \n",
    "    \n",
    "# You can use this to test your function.\n",
    "# Any code inside this `if` statement will be ignored by the automarker.\n",
    "\n",
    "if __name__ == '__main__':\n",
    "    \n",
    "    # Output of the import_bss and import_super functions\n",
    "    bss_cat = import_bss()\n",
    "    super_cat = import_super()\n",
    "    print(bss_cat)\n",
    "    print(super_cat)\n"
   ]
  },
  {
   "cell_type": "markdown",
   "id": "963119a5-661d-46e0-98a7-32db8ce2fd57",
   "metadata": {},
   "source": [
    "***"
   ]
  },
  {
   "cell_type": "markdown",
   "id": "e19387e2-145c-47b8-ad2d-6d83f6ca84a3",
   "metadata": {},
   "source": [
    "#### Look around you \n",
    "\n",
    "##### 15. Write a find_closest function that takes a catalogue and the position of a target source (a right ascension and declination) and finds the closest match for the target source in the catalogue.\n",
    "\n",
    "##### Your function should return the ID of the closest object and the distance to that object.\n",
    "\n",
    "##### The right ascension and declination are in degrees. The catalogue list has been loaded by import_bss from the previous question. The full 320 object BSS catalogue is contained in bss.dat for you to test your code on."
   ]
  },
  {
   "cell_type": "code",
   "execution_count": null,
   "id": "082b11f2-7b22-476d-b063-331bbf25332e",
   "metadata": {},
   "outputs": [],
   "source": [
    "# Write your find_closest function here\n",
    "import numpy as np\n",
    "\n",
    "def hms2dec(hr, m, s):\n",
    "    dec = hr + m/60 + s/3600\n",
    "    return dec*15\n",
    "\n",
    "def dms2dec(d, m, s):\n",
    "    sign = d/abs(d)\n",
    "    dec = abs(d) + m/60 + s/3600\n",
    "    return sign*dec\n",
    "\n",
    "def import_bss():\n",
    "    res = []\n",
    "    data = np.loadtxt('bss.dat', usecols=range(1, 7))\n",
    "    for i, row in enumerate(data, 1):\n",
    "        res.append((i, hms2dec(row[0], row[1], row[2]), dms2dec(row[3], row[4], row[5])))\n",
    "    return res\n",
    "\n",
    "def import_super():\n",
    "    data = np.loadtxt('super.csv', delimiter=',', skiprows=1, usecols=[0, 1])\n",
    "    res = []\n",
    "    for i, row in enumerate(data, 1):\n",
    "        res.append((i, row[0], row[1]))\n",
    "    return res\n",
    "\n",
    "def angular_dist(ra1, dec1, ra2, dec2):\n",
    "    # Convert to radians\n",
    "    r1 = np.radians(ra1)\n",
    "    d1 = np.radians(dec1)\n",
    "    r2 = np.radians(ra2)\n",
    "    d2 = np.radians(dec2)\n",
    "\n",
    "    a = np.sin(np.abs(d1 - d2)/2)**2\n",
    "    b = np.cos(d1)*np.cos(d2)*np.sin(np.abs(r1 - r2)/2)**2\n",
    "    angle = 2*np.arcsin(np.sqrt(a + b))\n",
    "    \n",
    "    # Convert back to degrees\n",
    "    return np.degrees(angle)\n",
    "\n",
    "def find_closest(cat, ra, dec):\n",
    "    min_dist = np.inf\n",
    "    min_id = None\n",
    "    for id1, ra1, dec1 in cat:\n",
    "        dist = angular_dist(ra1, dec1, ra, dec)\n",
    "    if dist < min_dist:\n",
    "        min_id = id1\n",
    "        min_dist = dist\n",
    "    \n",
    "    return min_id, min_dist"
   ]
  },
  {
   "cell_type": "markdown",
   "id": "ce61a8cf-7d55-415f-afae-22bc19d61e7c",
   "metadata": {},
   "source": [
    "***"
   ]
  },
  {
   "cell_type": "markdown",
   "id": "8dabe990-c59e-4826-b1ff-4fdc9db73bac",
   "metadata": {},
   "source": [
    "#### Matchup\n",
    "\n",
    "##### 16. Write a crossmatch function that crossmatches two catalogues within a maximum distance. It should return a list of matches and non-matches for the first catalogue against the second.\n",
    "\n",
    "##### The list of matches contains tuples of the first and second catalogue object IDs and their distance. The list of non-matches contains the unmatched object IDs from the first catalogue only. Both lists should be ordered by the first catalogue's IDs.\n",
    "\n",
    "##### The BSS and SuperCOSMOS catalogues will be given as input arguments, each in the format you’ve seen previously. The maximum distance is given in decimal degrees."
   ]
  },
  {
   "cell_type": "code",
   "execution_count": null,
   "id": "b26ca5b7-cfd1-42cb-b83a-eb661ffbe927",
   "metadata": {},
   "outputs": [],
   "source": [
    "# Write your crossmatch function here.\n",
    "import numpy as np\n",
    "def dms2dec (d,m,s):\n",
    "    if d>=0:\n",
    "        x=(d+(m/60)+(s/3600))\n",
    "    if d<0:\n",
    "        x=(d-(m/60)-(s/3600))\n",
    "    return x\n",
    "\n",
    "def import_bss():\n",
    "    cat = np.loadtxt('bss.dat', usecols=range(1, 7))\n",
    "    x=0\n",
    "    y=[]\n",
    "    for a in cat:\n",
    "        x=x+1\n",
    "        y=y+[(x, (360/24)*(a[0]+(a[1]/60)+(a[2]/3600)), dms2dec(a[3],a[4],a[5]))]\n",
    "    return y\n",
    "\n",
    "def import_super():\n",
    "    cat = np.loadtxt('super.csv', delimiter=',', skiprows=1, usecols=[0, 1])\n",
    "    x=0\n",
    "    y=[]\n",
    "    for a in cat:\n",
    "        x=x+1\n",
    "        y=y+[(x, a[0], a[1])]\n",
    "    return y\n",
    "   \n",
    "def angular_dist (r1,d1,r2,d2):\n",
    "    r1,d1,r2,d2=np.radians(r1),np.radians(d1),np.radians(r2),np.radians(d2)\n",
    "    a = np.sin(abs(d1-d2)/2)**2\n",
    "    b = np.cos(d1)*np.cos(d2)*np.sin(np.abs(r1 - r2)/2)**2\n",
    "    D=2*np.arcsin(np.sqrt(a+b))\n",
    "    return np.degrees(D)\n",
    "\n",
    "def crossmatch(Q,W,max_dist):\n",
    "    matches=[]\n",
    "    no_matches=[]\n",
    "    for q in Q:\n",
    "        E=360\n",
    "    for w in W:\n",
    "        if angular_dist (q[1],q[2],w[1],w[2])<=E:\n",
    "            E=angular_dist (q[1],q[2],w[1],w[2])\n",
    "            r=(q[0],w[0],E)\n",
    "    if E<=max_dist:\n",
    "        matches=matches+[r]\n",
    "    else:\n",
    "        no_matches=no_matches+[r[0]]\n",
    "    return matches, no_matches\n",
    "\n",
    "# You can use this to test your function.\n",
    "# Any code inside this `if` statement will be ignored by the automarker.\n",
    "\n",
    "if __name__ == '__main__':\n",
    "    bss_cat = import_bss()\n",
    "    super_cat = import_super()\n",
    "\n",
    "    # First example in the question\n",
    "    max_dist = 40/3600\n",
    "    matches, no_matches = crossmatch(bss_cat, super_cat, max_dist)\n",
    "    print(matches[:3])\n",
    "    print(no_matches[:3])\n",
    "    print(len(no_matches))\n",
    "\n",
    "    # Second example in the question\n",
    "    max_dist = 5/3600\n",
    "    matches, no_matches = crossmatch(bss_cat, super_cat, max_dist)\n",
    "    print(matches[:3])\n",
    "    print(no_matches[:3])\n",
    "    print(len(no_matches))\n"
   ]
  }
 ],
 "metadata": {
  "kernelspec": {
   "display_name": "Python 3 (ipykernel)",
   "language": "python",
   "name": "python3"
  },
  "language_info": {
   "codemirror_mode": {
    "name": "ipython",
    "version": 3
   },
   "file_extension": ".py",
   "mimetype": "text/x-python",
   "name": "python",
   "nbconvert_exporter": "python",
   "pygments_lexer": "ipython3",
   "version": "3.9.12"
  }
 },
 "nbformat": 4,
 "nbformat_minor": 5
}
